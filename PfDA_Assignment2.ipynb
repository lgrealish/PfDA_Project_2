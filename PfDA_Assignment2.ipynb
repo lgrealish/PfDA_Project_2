{
 "cells": [
  {
   "cell_type": "markdown",
   "metadata": {},
   "source": [
    "# PfDA Assignment 2 2023\n",
    "\n",
    "## An analysis of paleo-present climate data "
   ]
  },
  {
   "cell_type": "markdown",
   "metadata": {},
   "source": [
    "<img src = images/climate_montage.png alt= \"Climate change Images\" width = \"700\" height = \"auto\">"
   ]
  },
  {
   "cell_type": "markdown",
   "metadata": {},
   "source": [
    "# Table of Contents\n",
    "1. [Introduction](#overview)  \n",
    "    - [Problem Statement](#problem-statement)\n",
    "    - [Background](#background)\n",
    "    - [Import](#import-libraries)\n",
    "2. [CO2 Data](#co2-data)\n",
    "3. [Temperature Data](#temp-data)\n",
    "4. [CH4 Data](#ch4-data)\n",
    "5. [Export Fused Data](#export-data)"
   ]
  },
  {
   "cell_type": "markdown",
   "metadata": {},
   "source": [
    "***"
   ]
  },
  {
   "cell_type": "markdown",
   "metadata": {},
   "source": [
    "<a id=\"overview\"></a>\n",
    "\n",
    "## 1. Introduction and Project Overview\n",
    "\n",
    "This notebook contains my submission for the Programming for Data Analysis Module 2023 module at ATU as part of the Higher Diploma in Computing and Data Analytics."
   ]
  },
  {
   "cell_type": "markdown",
   "metadata": {},
   "source": [
    "### Problem statement <a id=\"problem-statement\"></a>\n",
    "\n",
    "- Analyse CO2 vs Temperature Anomaly from 800kyrs – present. \n",
    "- Examine one other (paleo/modern) features (e.g. CH4 or polar ice-coverage) \n",
    "- Examine Irish context: o Climate change signals: (see Maynooth study: The emergence of a climate change signal in long-term Irish meteorological observations - ScienceDirect https://www.sciencedirect.com/science/article/pii/S2212094723000610#bib13) \n",
    "- Fuse and analyse data from various data sources and format fused data set as a pandas dataframe and export to csv and json formats \n",
    "- For all of the above variables, analyse the data, the trends and the relationships between them (temporal leads/lags/frequency analysis). \n",
    "- Predict global temperature anomaly over next few decades (synthesise data) and compare to published climate models if atmospheric CO2 trends continue  \n",
    "- Comment on accelerated warming based on very latest features (e.g. temperature/polar-icecoverage) \n",
    "\n",
    "Use a Jupyter notebook for your analysis and track your progress using GitHub. \n",
    "\n",
    "Use an academic referencing style "
   ]
  },
  {
   "cell_type": "markdown",
   "metadata": {},
   "source": [
    "### Background <a id=\"background\"></a>\n",
    "\n",
    "Paleoclimatology is the study of previous climates that have existed during Earth's different geologic ages.  We can then use data gathered to try to identify the causes of climate changes that have happened in the past in order to better understand our present and future climate.\n",
    "\n",
    "Paleoclimatology has also helped scientists study and understand how other environmental factors, such as continental drift, solar energy, greenhouses gases in the atmosphere, and the variation in Earth’s orbit have all affected the climate of Earth over time.\n",
    "\n",
    "The science of paleoclimatology is vital to our understanding of climate on Earth. As scientists become increasingly aware of how climates have been influenced in the past, they can develop models that help predict how increased carbon dioxide levels and other changes might impact the climate of Earth in the future.\n",
    "\n",
    "https://education.nationalgeographic.org/resource/paleoclimatology-RL/"
   ]
  },
  {
   "cell_type": "markdown",
   "metadata": {},
   "source": [
    "### Importing Python libraries and modules <a id=\"import-libraries\"></a>"
   ]
  },
  {
   "cell_type": "code",
   "execution_count": 1,
   "metadata": {},
   "outputs": [],
   "source": [
    "# Importing libraries and modules necessary for this task\n",
    "import pandas as pd\n",
    "import numpy as np\n",
    "import matplotlib.pyplot as plt\n",
    "import xlrd\n",
    "import datetime as dt\n",
    "import math\n",
    "\n"
   ]
  },
  {
   "cell_type": "markdown",
   "metadata": {},
   "source": [
    "## 2. CO2 Data <a id=\"co2-data\"></a>"
   ]
  },
  {
   "cell_type": "markdown",
   "metadata": {},
   "source": [
    "The CO2 data being analysed at is a composite of atmospheric CO2 records from Antartic ice cores and can be found in this reposoitory as a .xls file [CO2_IPCC](/Data/CO2_IPCC.xls).  The data in this file spans a timeframe of 800k years before present, where present date is 1950.  This version compiled by Bereiter et al. in 2014 replaces the old version of Lüthi et al. (2008), which contains the analytical bias described in the article mentioned above and lower quality data and many other sections.\n",
    "\n",
    "The ice core data is gathered by drilling into ice sheets and extracting ice core samples which are then analysed to identify deposits within the ice, such as pollen and gas.  By drilling down into the ice sheet or glacier and recovering ice from ancient times, scientists are able to determine the past composition and behavior of the atmosphere, what the climate was like when the snow fell, and how the size of ice sheets and glaciers have changed in the past in response to different climate conditions. Ice cores have provided climate and ice dynamics information over many hundred thousand years in very high, sometimes seasonal, resolution.\n",
    "\n",
    "The information gathered from these ice cores allows paleoclimatologists to better understand atmospheric and climatic conditions that existed when particular layers of the sheet formed and to determine how and why climate changed in the past.\n"
   ]
  },
  {
   "cell_type": "code",
   "execution_count": 2,
   "metadata": {},
   "outputs": [],
   "source": [
    "# Read in the CO2 data from IPCC xls file, skipping the first 14 rows. \n",
    "# https://agupubs.onlinelibrary.wiley.com/action/downloadSupplement?doi=10.1002%2F2014GL061957&file=grl52461-sup-0003-supplementary.xls\n",
    "\n",
    "co2_IPCC = pd.read_excel('data/CO2_IPCC.xls', sheet_name='CO2 Composite', skiprows=range(14))"
   ]
  },
  {
   "cell_type": "code",
   "execution_count": 3,
   "metadata": {},
   "outputs": [
    {
     "data": {
      "text/html": [
       "<div>\n",
       "<style scoped>\n",
       "    .dataframe tbody tr th:only-of-type {\n",
       "        vertical-align: middle;\n",
       "    }\n",
       "\n",
       "    .dataframe tbody tr th {\n",
       "        vertical-align: top;\n",
       "    }\n",
       "\n",
       "    .dataframe thead th {\n",
       "        text-align: right;\n",
       "    }\n",
       "</style>\n",
       "<table border=\"1\" class=\"dataframe\">\n",
       "  <thead>\n",
       "    <tr style=\"text-align: right;\">\n",
       "      <th></th>\n",
       "      <th>Gasage (yr BP)</th>\n",
       "      <th>CO2 (ppmv)</th>\n",
       "      <th>sigma mean CO2 (ppmv)</th>\n",
       "    </tr>\n",
       "  </thead>\n",
       "  <tbody>\n",
       "    <tr>\n",
       "      <th>0</th>\n",
       "      <td>-51.030000</td>\n",
       "      <td>368.022488</td>\n",
       "      <td>0.060442</td>\n",
       "    </tr>\n",
       "    <tr>\n",
       "      <th>1</th>\n",
       "      <td>-48.000000</td>\n",
       "      <td>361.780737</td>\n",
       "      <td>0.370000</td>\n",
       "    </tr>\n",
       "    <tr>\n",
       "      <th>2</th>\n",
       "      <td>-46.279272</td>\n",
       "      <td>359.647793</td>\n",
       "      <td>0.098000</td>\n",
       "    </tr>\n",
       "    <tr>\n",
       "      <th>3</th>\n",
       "      <td>-44.405642</td>\n",
       "      <td>357.106740</td>\n",
       "      <td>0.159923</td>\n",
       "    </tr>\n",
       "    <tr>\n",
       "      <th>4</th>\n",
       "      <td>-43.080000</td>\n",
       "      <td>353.946685</td>\n",
       "      <td>0.043007</td>\n",
       "    </tr>\n",
       "  </tbody>\n",
       "</table>\n",
       "</div>"
      ],
      "text/plain": [
       "   Gasage (yr BP)  CO2 (ppmv)  sigma mean CO2 (ppmv)\n",
       "0      -51.030000  368.022488               0.060442\n",
       "1      -48.000000  361.780737               0.370000\n",
       "2      -46.279272  359.647793               0.098000\n",
       "3      -44.405642  357.106740               0.159923\n",
       "4      -43.080000  353.946685               0.043007"
      ]
     },
     "execution_count": 3,
     "metadata": {},
     "output_type": "execute_result"
    }
   ],
   "source": [
    "co2_IPCC.head()"
   ]
  },
  {
   "cell_type": "code",
   "execution_count": 4,
   "metadata": {},
   "outputs": [
    {
     "data": {
      "text/html": [
       "<div>\n",
       "<style scoped>\n",
       "    .dataframe tbody tr th:only-of-type {\n",
       "        vertical-align: middle;\n",
       "    }\n",
       "\n",
       "    .dataframe tbody tr th {\n",
       "        vertical-align: top;\n",
       "    }\n",
       "\n",
       "    .dataframe thead th {\n",
       "        text-align: right;\n",
       "    }\n",
       "</style>\n",
       "<table border=\"1\" class=\"dataframe\">\n",
       "  <thead>\n",
       "    <tr style=\"text-align: right;\">\n",
       "      <th></th>\n",
       "      <th>Gasage (yr BP)</th>\n",
       "      <th>CO2 (ppmv)</th>\n",
       "      <th>sigma mean CO2 (ppmv)</th>\n",
       "    </tr>\n",
       "  </thead>\n",
       "  <tbody>\n",
       "    <tr>\n",
       "      <th>count</th>\n",
       "      <td>1901.000000</td>\n",
       "      <td>1901.000000</td>\n",
       "      <td>1901.000000</td>\n",
       "    </tr>\n",
       "    <tr>\n",
       "      <th>mean</th>\n",
       "      <td>242810.270113</td>\n",
       "      <td>235.566624</td>\n",
       "      <td>1.340519</td>\n",
       "    </tr>\n",
       "    <tr>\n",
       "      <th>std</th>\n",
       "      <td>274261.195468</td>\n",
       "      <td>35.902698</td>\n",
       "      <td>0.924188</td>\n",
       "    </tr>\n",
       "    <tr>\n",
       "      <th>min</th>\n",
       "      <td>-51.030000</td>\n",
       "      <td>173.713620</td>\n",
       "      <td>0.010000</td>\n",
       "    </tr>\n",
       "    <tr>\n",
       "      <th>25%</th>\n",
       "      <td>14606.209000</td>\n",
       "      <td>204.826743</td>\n",
       "      <td>0.639335</td>\n",
       "    </tr>\n",
       "    <tr>\n",
       "      <th>50%</th>\n",
       "      <td>74525.645000</td>\n",
       "      <td>232.456008</td>\n",
       "      <td>1.073871</td>\n",
       "    </tr>\n",
       "    <tr>\n",
       "      <th>75%</th>\n",
       "      <td>504177.187879</td>\n",
       "      <td>257.930000</td>\n",
       "      <td>1.800000</td>\n",
       "    </tr>\n",
       "    <tr>\n",
       "      <th>max</th>\n",
       "      <td>805668.868405</td>\n",
       "      <td>368.022488</td>\n",
       "      <td>9.960000</td>\n",
       "    </tr>\n",
       "  </tbody>\n",
       "</table>\n",
       "</div>"
      ],
      "text/plain": [
       "       Gasage (yr BP)   CO2 (ppmv)  sigma mean CO2 (ppmv)\n",
       "count     1901.000000  1901.000000            1901.000000\n",
       "mean    242810.270113   235.566624               1.340519\n",
       "std     274261.195468    35.902698               0.924188\n",
       "min        -51.030000   173.713620               0.010000\n",
       "25%      14606.209000   204.826743               0.639335\n",
       "50%      74525.645000   232.456008               1.073871\n",
       "75%     504177.187879   257.930000               1.800000\n",
       "max     805668.868405   368.022488               9.960000"
      ]
     },
     "execution_count": 4,
     "metadata": {},
     "output_type": "execute_result"
    }
   ],
   "source": [
    "co2_IPCC.describe()"
   ]
  },
  {
   "cell_type": "markdown",
   "metadata": {},
   "source": [
    "\n",
    "https://en.wikipedia.org/wiki/Before_Present\n",
    "\n",
    "In order to make the data more relateable and easier to compare with the other datasets I will convert the column 'Gasage (yr BP)' to the same year format that is seen in the other datasets.\n"
   ]
  },
  {
   "cell_type": "code",
   "execution_count": 5,
   "metadata": {},
   "outputs": [],
   "source": [
    "# Convert the Gasage yr BP format \n",
    "years = 1950 - co2_IPCC['Gasage (yr BP)']"
   ]
  },
  {
   "cell_type": "code",
   "execution_count": 6,
   "metadata": {},
   "outputs": [],
   "source": [
    "# Add a new column to the dataframe with the converted year\n",
    "co2_IPCC.loc[:, \"year\"] = (years).astype(int)\n"
   ]
  },
  {
   "cell_type": "code",
   "execution_count": 7,
   "metadata": {},
   "outputs": [
    {
     "name": "stdout",
     "output_type": "stream",
     "text": [
      "Gasage (yr BP)           float64\n",
      "CO2 (ppmv)               float64\n",
      "sigma mean CO2 (ppmv)    float64\n",
      "year                       int32\n",
      "dtype: object\n"
     ]
    }
   ],
   "source": [
    "print(co2_IPCC.dtypes) "
   ]
  },
  {
   "cell_type": "markdown",
   "metadata": {},
   "source": [
    "As the IPCC dataset only contains data up until 1950 a second dataset is also being used and can be found in this repository as a .csv file [CO2_Mauna_Loa](/Data/co2_mauna_loa.csv) and was downloaded from the [NOAA website](https://gml.noaa.gov/ccgg/trends/data.html).  The data gathered at the Mauna Loa Observatory in Hawaii gives the annual mean CO2 measurements but unlike the IPCC data which gathers the CO2 data from ice cores the data is collected from measuring concentration of CO2 in the air.  \n",
    "\n",
    "The location of the observatory at an altitude of 3,400m, near the summit of Mauna Loa, is well situated to measure air masses that are representative of very large areas.\n",
    "\n",
    "https://gml.noaa.gov/ccgg/about/co2_measurements.html"
   ]
  },
  {
   "cell_type": "code",
   "execution_count": 8,
   "metadata": {},
   "outputs": [],
   "source": [
    "# Read in the CO2 data from Mauna Loa .csv file, skipping the first 43 rows. \n",
    "# https://agupubs.onlinelibrary.wiley.com/action/downloadSupplement?doi=10.1002%2F2014GL061957&file=grl52461-sup-0003-supplementary.xls\n",
    "\n",
    "co2_maunaloa = pd.read_csv('data/co2_mauna_loa.csv', skiprows=range(43))"
   ]
  },
  {
   "cell_type": "code",
   "execution_count": 9,
   "metadata": {},
   "outputs": [
    {
     "data": {
      "text/html": [
       "<div>\n",
       "<style scoped>\n",
       "    .dataframe tbody tr th:only-of-type {\n",
       "        vertical-align: middle;\n",
       "    }\n",
       "\n",
       "    .dataframe tbody tr th {\n",
       "        vertical-align: top;\n",
       "    }\n",
       "\n",
       "    .dataframe thead th {\n",
       "        text-align: right;\n",
       "    }\n",
       "</style>\n",
       "<table border=\"1\" class=\"dataframe\">\n",
       "  <thead>\n",
       "    <tr style=\"text-align: right;\">\n",
       "      <th></th>\n",
       "      <th>year</th>\n",
       "      <th>mean</th>\n",
       "      <th>unc</th>\n",
       "    </tr>\n",
       "  </thead>\n",
       "  <tbody>\n",
       "    <tr>\n",
       "      <th>0</th>\n",
       "      <td>1959</td>\n",
       "      <td>315.98</td>\n",
       "      <td>0.12</td>\n",
       "    </tr>\n",
       "    <tr>\n",
       "      <th>1</th>\n",
       "      <td>1960</td>\n",
       "      <td>316.91</td>\n",
       "      <td>0.12</td>\n",
       "    </tr>\n",
       "    <tr>\n",
       "      <th>2</th>\n",
       "      <td>1961</td>\n",
       "      <td>317.64</td>\n",
       "      <td>0.12</td>\n",
       "    </tr>\n",
       "    <tr>\n",
       "      <th>3</th>\n",
       "      <td>1962</td>\n",
       "      <td>318.45</td>\n",
       "      <td>0.12</td>\n",
       "    </tr>\n",
       "    <tr>\n",
       "      <th>4</th>\n",
       "      <td>1963</td>\n",
       "      <td>318.99</td>\n",
       "      <td>0.12</td>\n",
       "    </tr>\n",
       "  </tbody>\n",
       "</table>\n",
       "</div>"
      ],
      "text/plain": [
       "   year    mean   unc\n",
       "0  1959  315.98  0.12\n",
       "1  1960  316.91  0.12\n",
       "2  1961  317.64  0.12\n",
       "3  1962  318.45  0.12\n",
       "4  1963  318.99  0.12"
      ]
     },
     "execution_count": 9,
     "metadata": {},
     "output_type": "execute_result"
    }
   ],
   "source": [
    "co2_maunaloa.head()\n",
    "\n",
    "#co2_maunaloa.tail()"
   ]
  },
  {
   "cell_type": "markdown",
   "metadata": {},
   "source": [
    "In order to analyse the 2 data sets they will need to be merged."
   ]
  },
  {
   "cell_type": "code",
   "execution_count": 10,
   "metadata": {},
   "outputs": [],
   "source": [
    "# Change the name of the column in Mauna Loa csv file to match that of IPCC file\n",
    "# https://stackoverflow.com/questions/46066685/rename-the-column-inside-csv-file\n",
    "co2_maunaloa = co2_maunaloa.rename(columns=({'mean':'CO2 (ppmv)'}))\n"
   ]
  },
  {
   "cell_type": "code",
   "execution_count": 11,
   "metadata": {},
   "outputs": [],
   "source": [
    "# https://pandas.pydata.org/docs/user_guide/merging.html\n",
    "co2_relevant_columns = co2_maunaloa[['year', 'CO2 (ppmv)']]\n",
    "\n",
    "co2_merged = pd.concat([co2_relevant_columns, co2_IPCC[['year', 'CO2 (ppmv)']]])"
   ]
  },
  {
   "cell_type": "code",
   "execution_count": 12,
   "metadata": {},
   "outputs": [
    {
     "name": "stdout",
     "output_type": "stream",
     "text": [
      "        year  CO2 (ppmv)\n",
      "0       1959  315.980000\n",
      "1       1960  316.910000\n",
      "2       1961  317.640000\n",
      "3       1962  318.450000\n",
      "4       1963  318.990000\n",
      "...      ...         ...\n",
      "1896 -801975  202.921723\n",
      "1897 -802059  207.498645\n",
      "1898 -802572  204.861938\n",
      "1899 -803182  202.226839\n",
      "1900 -803718  207.285440\n",
      "\n",
      "[1965 rows x 2 columns]\n"
     ]
    }
   ],
   "source": [
    "print(co2_merged)"
   ]
  },
  {
   "cell_type": "code",
   "execution_count": 13,
   "metadata": {},
   "outputs": [],
   "source": [
    "# Create a dataframe with the merged IPCC and Mauna Loa CO2 data\n",
    "co2_merged = pd.read_csv(\"C:/Users/lgrealish/repo/PfDA_Project_2/data_export_files/co2_merged_data.csv\")"
   ]
  },
  {
   "cell_type": "code",
   "execution_count": 14,
   "metadata": {},
   "outputs": [
    {
     "data": {
      "image/png": "[encoded data removed]",
      "text/plain": [
       "<Figure size 640x480 with 1 Axes>"
      ]
     },
     "metadata": {},
     "output_type": "display_data"
    }
   ],
   "source": [
    "# Check how the merged CO2 data looks\n",
    "plt.plot(co2_merged['year'],co2_merged['CO2 (ppmv)'])\n",
    "plt.show()"
   ]
  },
  {
   "cell_type": "markdown",
   "metadata": {},
   "source": [
    "## 3. Temperature Data <a id=\"temp-data\"></a>"
   ]
  },
  {
   "cell_type": "markdown",
   "metadata": {},
   "source": [
    "The next section will focus on the data relating to temperature and temperature anomoly.  \n",
    "\n",
    "The term temperature anomoly means a departure from a reference value or long-term average. A positive anomaly indicates that the observed temperature was warmer than the reference value, while a negative anomaly indicates that the observed temperature was cooler than the reference value. https://www.ncei.noaa.gov/access/monitoring/global-temperature-anomalies/#:~:text=The%20term%20temperature%20anomaly%20means,cooler%20than%20the%20reference%20value.\n",
    "\n",
    "The temperature data being analysed was provided by the lecturer and can be found in this reposoitory as a .txt file [temp_data_jouzel](/Data/temp_data_jouzel.txt).  Similar to the CO2 data this dataset spans a timescale of over 800k years and also uses the Before Present model where BP is 1950.  "
   ]
  },
  {
   "cell_type": "code",
   "execution_count": 24,
   "metadata": {},
   "outputs": [],
   "source": [
    "# Read in the CO2 data from Jouzel txt file\n",
    "# Change the name of the 'Age' column to match that on CO2 merged data\n",
    "# Remove any null values using.dropna() function\n",
    "temp = pd.read_csv('data/temp_data_Jouzel.txt', sep='\\s+', skiprows=range(91))\n",
    "#temp = temp.rename(columns=({'Age':'year'})) \n",
    "temp = temp.dropna()\n"
   ]
  },
  {
   "cell_type": "code",
   "execution_count": 26,
   "metadata": {},
   "outputs": [],
   "source": [
    "years = 1950 - temp['Age']\n",
    "temp.loc[:, \"year\"] = (years).astype(int)"
   ]
  },
  {
   "cell_type": "code",
   "execution_count": 27,
   "metadata": {},
   "outputs": [
    {
     "data": {
      "text/html": [
       "<div>\n",
       "<style scoped>\n",
       "    .dataframe tbody tr th:only-of-type {\n",
       "        vertical-align: middle;\n",
       "    }\n",
       "\n",
       "    .dataframe tbody tr th {\n",
       "        vertical-align: top;\n",
       "    }\n",
       "\n",
       "    .dataframe thead th {\n",
       "        text-align: right;\n",
       "    }\n",
       "</style>\n",
       "<table border=\"1\" class=\"dataframe\">\n",
       "  <thead>\n",
       "    <tr style=\"text-align: right;\">\n",
       "      <th></th>\n",
       "      <th>Bag</th>\n",
       "      <th>ztop</th>\n",
       "      <th>Age</th>\n",
       "      <th>Deuterium</th>\n",
       "      <th>Temperature</th>\n",
       "      <th>year</th>\n",
       "    </tr>\n",
       "  </thead>\n",
       "  <tbody>\n",
       "    <tr>\n",
       "      <th>count</th>\n",
       "      <td>5785.000000</td>\n",
       "      <td>5785.000000</td>\n",
       "      <td>5785.000000</td>\n",
       "      <td>5785.000000</td>\n",
       "      <td>5785.000000</td>\n",
       "      <td>5785.000000</td>\n",
       "    </tr>\n",
       "    <tr>\n",
       "      <th>mean</th>\n",
       "      <td>2907.847364</td>\n",
       "      <td>1598.766050</td>\n",
       "      <td>190506.560624</td>\n",
       "      <td>-417.796420</td>\n",
       "      <td>-4.580228</td>\n",
       "      <td>-188556.164564</td>\n",
       "    </tr>\n",
       "    <tr>\n",
       "      <th>std</th>\n",
       "      <td>1670.376955</td>\n",
       "      <td>918.707325</td>\n",
       "      <td>192554.547328</td>\n",
       "      <td>18.000275</td>\n",
       "      <td>3.446971</td>\n",
       "      <td>192554.675749</td>\n",
       "    </tr>\n",
       "    <tr>\n",
       "      <th>min</th>\n",
       "      <td>13.000000</td>\n",
       "      <td>6.600000</td>\n",
       "      <td>38.373790</td>\n",
       "      <td>-449.500000</td>\n",
       "      <td>-10.580000</td>\n",
       "      <td>-799712.000000</td>\n",
       "    </tr>\n",
       "    <tr>\n",
       "      <th>25%</th>\n",
       "      <td>1462.000000</td>\n",
       "      <td>803.550000</td>\n",
       "      <td>46793.812500</td>\n",
       "      <td>-432.500000</td>\n",
       "      <td>-7.450000</td>\n",
       "      <td>-271388.000000</td>\n",
       "    </tr>\n",
       "    <tr>\n",
       "      <th>50%</th>\n",
       "      <td>2908.000000</td>\n",
       "      <td>1598.850000</td>\n",
       "      <td>122110.190000</td>\n",
       "      <td>-421.300000</td>\n",
       "      <td>-5.200000</td>\n",
       "      <td>-120160.000000</td>\n",
       "    </tr>\n",
       "    <tr>\n",
       "      <th>75%</th>\n",
       "      <td>4354.000000</td>\n",
       "      <td>2394.150000</td>\n",
       "      <td>273338.430000</td>\n",
       "      <td>-403.300000</td>\n",
       "      <td>-1.820000</td>\n",
       "      <td>-44843.000000</td>\n",
       "    </tr>\n",
       "    <tr>\n",
       "      <th>max</th>\n",
       "      <td>5800.000000</td>\n",
       "      <td>3189.450000</td>\n",
       "      <td>801662.000000</td>\n",
       "      <td>-361.200000</td>\n",
       "      <td>5.460000</td>\n",
       "      <td>1911.000000</td>\n",
       "    </tr>\n",
       "  </tbody>\n",
       "</table>\n",
       "</div>"
      ],
      "text/plain": [
       "               Bag         ztop            Age    Deuterium  Temperature  \\\n",
       "count  5785.000000  5785.000000    5785.000000  5785.000000  5785.000000   \n",
       "mean   2907.847364  1598.766050  190506.560624  -417.796420    -4.580228   \n",
       "std    1670.376955   918.707325  192554.547328    18.000275     3.446971   \n",
       "min      13.000000     6.600000      38.373790  -449.500000   -10.580000   \n",
       "25%    1462.000000   803.550000   46793.812500  -432.500000    -7.450000   \n",
       "50%    2908.000000  1598.850000  122110.190000  -421.300000    -5.200000   \n",
       "75%    4354.000000  2394.150000  273338.430000  -403.300000    -1.820000   \n",
       "max    5800.000000  3189.450000  801662.000000  -361.200000     5.460000   \n",
       "\n",
       "                year  \n",
       "count    5785.000000  \n",
       "mean  -188556.164564  \n",
       "std    192554.675749  \n",
       "min   -799712.000000  \n",
       "25%   -271388.000000  \n",
       "50%   -120160.000000  \n",
       "75%    -44843.000000  \n",
       "max      1911.000000  "
      ]
     },
     "execution_count": 27,
     "metadata": {},
     "output_type": "execute_result"
    }
   ],
   "source": [
    "temp.describe()\n"
   ]
  },
  {
   "cell_type": "markdown",
   "metadata": {},
   "source": [
    "From the above we can see that the min value for 'year' is 38 BP whoich means this data only contains data until 1911 so in order to complete the data up until the current year I found data on the NOAA website which has the temperature anomaly from 1912 to 2023. \n",
    "\n",
    "https://www.ncei.noaa.gov/access/monitoring/climate-at-a-glance/global/time-series/globe/land_ocean/1/11/1912-2023\n"
   ]
  },
  {
   "cell_type": "code",
   "execution_count": 28,
   "metadata": {},
   "outputs": [
    {
     "data": {
      "text/html": [
       "<div>\n",
       "<style scoped>\n",
       "    .dataframe tbody tr th:only-of-type {\n",
       "        vertical-align: middle;\n",
       "    }\n",
       "\n",
       "    .dataframe tbody tr th {\n",
       "        vertical-align: top;\n",
       "    }\n",
       "\n",
       "    .dataframe thead th {\n",
       "        text-align: right;\n",
       "    }\n",
       "</style>\n",
       "<table border=\"1\" class=\"dataframe\">\n",
       "  <thead>\n",
       "    <tr style=\"text-align: right;\">\n",
       "      <th></th>\n",
       "      <th>year</th>\n",
       "      <th>Temperature</th>\n",
       "    </tr>\n",
       "  </thead>\n",
       "  <tbody>\n",
       "    <tr>\n",
       "      <th>count</th>\n",
       "      <td>112.000000</td>\n",
       "      <td>112.000000</td>\n",
       "    </tr>\n",
       "    <tr>\n",
       "      <th>mean</th>\n",
       "      <td>1967.500000</td>\n",
       "      <td>0.200446</td>\n",
       "    </tr>\n",
       "    <tr>\n",
       "      <th>std</th>\n",
       "      <td>32.475632</td>\n",
       "      <td>0.377246</td>\n",
       "    </tr>\n",
       "    <tr>\n",
       "      <th>min</th>\n",
       "      <td>1912.000000</td>\n",
       "      <td>-0.400000</td>\n",
       "    </tr>\n",
       "    <tr>\n",
       "      <th>25%</th>\n",
       "      <td>1939.750000</td>\n",
       "      <td>-0.052500</td>\n",
       "    </tr>\n",
       "    <tr>\n",
       "      <th>50%</th>\n",
       "      <td>1967.500000</td>\n",
       "      <td>0.095000</td>\n",
       "    </tr>\n",
       "    <tr>\n",
       "      <th>75%</th>\n",
       "      <td>1995.250000</td>\n",
       "      <td>0.420000</td>\n",
       "    </tr>\n",
       "    <tr>\n",
       "      <th>max</th>\n",
       "      <td>2023.000000</td>\n",
       "      <td>1.440000</td>\n",
       "    </tr>\n",
       "  </tbody>\n",
       "</table>\n",
       "</div>"
      ],
      "text/plain": [
       "              year  Temperature\n",
       "count   112.000000   112.000000\n",
       "mean   1967.500000     0.200446\n",
       "std      32.475632     0.377246\n",
       "min    1912.000000    -0.400000\n",
       "25%    1939.750000    -0.052500\n",
       "50%    1967.500000     0.095000\n",
       "75%    1995.250000     0.420000\n",
       "max    2023.000000     1.440000"
      ]
     },
     "execution_count": 28,
     "metadata": {},
     "output_type": "execute_result"
    }
   ],
   "source": [
    "temp_NOAA = pd.read_csv('data/temp_data_NOAA.csv', skiprows=range(4))\n",
    "temp_NOAA = temp_NOAA.rename(columns=({'Year':'year', 'Anomaly':'Temperature'})) \n",
    "temp_NOAA.describe()\n"
   ]
  },
  {
   "cell_type": "code",
   "execution_count": 29,
   "metadata": {},
   "outputs": [
    {
     "data": {
      "text/html": [
       "<div>\n",
       "<style scoped>\n",
       "    .dataframe tbody tr th:only-of-type {\n",
       "        vertical-align: middle;\n",
       "    }\n",
       "\n",
       "    .dataframe tbody tr th {\n",
       "        vertical-align: top;\n",
       "    }\n",
       "\n",
       "    .dataframe thead th {\n",
       "        text-align: right;\n",
       "    }\n",
       "</style>\n",
       "<table border=\"1\" class=\"dataframe\">\n",
       "  <thead>\n",
       "    <tr style=\"text-align: right;\">\n",
       "      <th></th>\n",
       "      <th>year</th>\n",
       "      <th>Temperature</th>\n",
       "    </tr>\n",
       "  </thead>\n",
       "  <tbody>\n",
       "    <tr>\n",
       "      <th>count</th>\n",
       "      <td>5897.000000</td>\n",
       "      <td>5897.000000</td>\n",
       "    </tr>\n",
       "    <tr>\n",
       "      <th>mean</th>\n",
       "      <td>-184937.604206</td>\n",
       "      <td>-4.489430</td>\n",
       "    </tr>\n",
       "    <tr>\n",
       "      <th>std</th>\n",
       "      <td>192482.278271</td>\n",
       "      <td>3.476275</td>\n",
       "    </tr>\n",
       "    <tr>\n",
       "      <th>min</th>\n",
       "      <td>-799712.000000</td>\n",
       "      <td>-10.580000</td>\n",
       "    </tr>\n",
       "    <tr>\n",
       "      <th>25%</th>\n",
       "      <td>-265126.000000</td>\n",
       "      <td>-7.410000</td>\n",
       "    </tr>\n",
       "    <tr>\n",
       "      <th>50%</th>\n",
       "      <td>-117809.000000</td>\n",
       "      <td>-5.130000</td>\n",
       "    </tr>\n",
       "    <tr>\n",
       "      <th>75%</th>\n",
       "      <td>-40877.000000</td>\n",
       "      <td>-1.570000</td>\n",
       "    </tr>\n",
       "    <tr>\n",
       "      <th>max</th>\n",
       "      <td>2023.000000</td>\n",
       "      <td>5.460000</td>\n",
       "    </tr>\n",
       "  </tbody>\n",
       "</table>\n",
       "</div>"
      ],
      "text/plain": [
       "                year  Temperature\n",
       "count    5897.000000  5897.000000\n",
       "mean  -184937.604206    -4.489430\n",
       "std    192482.278271     3.476275\n",
       "min   -799712.000000   -10.580000\n",
       "25%   -265126.000000    -7.410000\n",
       "50%   -117809.000000    -5.130000\n",
       "75%    -40877.000000    -1.570000\n",
       "max      2023.000000     5.460000"
      ]
     },
     "execution_count": 29,
     "metadata": {},
     "output_type": "execute_result"
    }
   ],
   "source": [
    "temp_merged = pd.concat([temp_NOAA, temp[['year', 'Temperature']]])\n",
    "temp_merged.describe()"
   ]
  },
  {
   "cell_type": "code",
   "execution_count": 31,
   "metadata": {},
   "outputs": [
    {
     "data": {
      "image/png": "[encoded data removed]",
      "text/plain": [
       "<Figure size 640x480 with 1 Axes>"
      ]
     },
     "metadata": {},
     "output_type": "display_data"
    }
   ],
   "source": [
    "# Check how the merged temp data looks\n",
    "plt.plot(temp_merged['year'],temp_merged['Temperature'])\n",
    "plt.show()"
   ]
  },
  {
   "cell_type": "code",
   "execution_count": null,
   "metadata": {},
   "outputs": [],
   "source": []
  },
  {
   "cell_type": "markdown",
   "metadata": {},
   "source": [
    "## 4. CH4 Data <a id=\"ch4-data\"></a>"
   ]
  },
  {
   "cell_type": "markdown",
   "metadata": {},
   "source": [
    "## 5. Export Fused Data <a id=\"export-data\"></a>"
   ]
  },
  {
   "cell_type": "code",
   "execution_count": 18,
   "metadata": {},
   "outputs": [],
   "source": [
    "# Output the merged IPCC and Mauna Loa data to  .csv and .json file \n",
    "co2_merged.to_csv('C:/Users/lgrealish/repo/PfDA_Project_2/data_export_files/co2_merged_data.csv')\n",
    "co2_merged.to_json('C:/Users/lgrealish/repo/PfDA_Project_2/data_export_files/co2_merged_data.json')\n",
    "\n",
    "temp_merged.to_csv('C:/Users/lgrealish/repo/PfDA_Project_2/data_export_files/temp_merged_data.csv')\n",
    "temp_merged.to_json('C:/Users/lgrealish/repo/PfDA_Project_2/data_export_files/temp_merged_data.json')"
   ]
  },
  {
   "cell_type": "code",
   "execution_count": null,
   "metadata": {},
   "outputs": [],
   "source": []
  },
  {
   "cell_type": "code",
   "execution_count": null,
   "metadata": {},
   "outputs": [],
   "source": []
  },
  {
   "cell_type": "code",
   "execution_count": null,
   "metadata": {},
   "outputs": [],
   "source": []
  },
  {
   "cell_type": "code",
   "execution_count": null,
   "metadata": {},
   "outputs": [],
   "source": []
  },
  {
   "cell_type": "markdown",
   "metadata": {},
   "source": [
    "## Resources\n",
    "\n",
    "https://www.sciencedirect.com/science/article/pii/S2212094723000610#bib13\n",
    "\n",
    "https://xlrd.readthedocs.io/en/latest/\n",
    "\n",
    "https://gml.noaa.gov/ccgg/trends/data.html\n",
    "\n",
    "https://www.met.ie/climate/available-data/long-term-data-sets/\n",
    "\n",
    "https://towardsdatascience.com/how-to-export-pandas-dataframe-to-csv-2038e43d9c03\n"
   ]
  },
  {
   "cell_type": "markdown",
   "metadata": {},
   "source": [
    "## Background Reading\n",
    "\n",
    "https://www.ipcc.ch/site/assets/uploads/2018/03/srccs_chapter2-1.pdf\n",
    "\n",
    "https://education.nationalgeographic.org/resource/paleoclimatology-RL/\n",
    "\n",
    "https://icecores.org/about-ice-cores#:~:text=CO2%20in%20the%20Ice%20Core%20Record&text=Over%20400%2C000%20years%2C%20and%20even,to%20warmer%20in%20interglacial%20periods\n",
    "\n",
    "https://gml.noaa.gov/ccgg/about/co2_measurements.html"
   ]
  }
 ],
 "metadata": {
  "kernelspec": {
   "display_name": "base",
   "language": "python",
   "name": "python3"
  },
  "language_info": {
   "codemirror_mode": {
    "name": "ipython",
    "version": 3
   },
   "file_extension": ".py",
   "mimetype": "text/x-python",
   "name": "python",
   "nbconvert_exporter": "python",
   "pygments_lexer": "ipython3",
   "version": "3.11.4"
  }
 },
 "nbformat": 4,
 "nbformat_minor": 2
}
