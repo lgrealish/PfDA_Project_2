{
 "cells": [
  {
   "cell_type": "markdown",
   "metadata": {},
   "source": [
    "# PfDA Assignment 2 2023\n",
    "\n",
    "## An analysis of paleo-present climate data "
   ]
  },
  {
   "cell_type": "markdown",
   "metadata": {},
   "source": [
    "<img src = images/climate_montage.png alt= \"Climate change Images\" width = \"700\" height = \"auto\">"
   ]
  },
  {
   "cell_type": "markdown",
   "metadata": {},
   "source": [
    "# Table of Contents\n",
    "1. [Introduction](#overview)  \n",
    "    - [Problem Statement](#problem-statement)"
   ]
  },
  {
   "cell_type": "markdown",
   "metadata": {},
   "source": [
    "<a id=\"overview\"></a>\n",
    "\n",
    "# 1. Introduction and Project Overview: \n",
    "\n",
    "This notebook contains my submission for the Programming for Data Analysis Module 2023 module at ATU as part of the Higher Diploma in Computing and Data Analytics.\n",
    "\n",
    "<a id=\"problem-statement\"></a>\n",
    "## Problem statement:\n",
    "\n",
    "- Analyse CO2 vs Temperature Anomaly from 800kyrs – present. \n",
    "- Examine one other (paleo/modern) features (e.g. CH4 or polar ice-coverage) \n",
    "- Examine Irish context: o Climate change signals: (see Maynooth study: The emergence of a climate change signal in long-term Irish meteorological observations - ScienceDirect https://www.sciencedirect.com/science/article/pii/S2212094723000610#bib13) \n",
    "- Fuse and analyse data from various data sources and format fused data set as a pandas dataframe and export to csv and json formats \n",
    "- For all of the above variables, analyse the data, the trends and the relationships between them (temporal leads/lags/frequency analysis). \n",
    "- Predict global temperature anomaly over next few decades (synthesise data) and compare to published climate models if atmospheric CO2 trends continue  \n",
    "- Comment on accelerated warming based on very latest features (e.g. temperature/polar-icecoverage) \n",
    "\n",
    "Use a Jupyter notebook for your analysis and track your progress using GitHub. \n",
    "\n",
    "Use an academic referencing style "
   ]
  },
  {
   "cell_type": "markdown",
   "metadata": {},
   "source": [
    "## Background\n",
    "\n",
    "Paleoclimatology is the study of previous climates that have existed during Earth's different geologic ages.  We can then use data gathered to try to identify the causes of climate changes that have happened in the past in order to better understand our present and future climate.\n",
    "\n",
    "Paleoclimatology has also helped scientists study and understand how other environmental factors, such as continental drift, solar energy, greenhouses gases in the atmosphere, and the variation in Earth’s orbit have all affected the climate of Earth over time.\n",
    "\n",
    "The science of paleoclimatology is vital to our understanding of climate on Earth. As scientists become increasingly aware of how climates have been influenced in the past, they can develop models that help predict how increased carbon dioxide levels and other changes might impact the climate of Earth in the future.\n",
    "\n",
    "https://education.nationalgeographic.org/resource/paleoclimatology-RL/"
   ]
  },
  {
   "cell_type": "markdown",
   "metadata": {},
   "source": [
    "## Importing Python libraries and modules"
   ]
  },
  {
   "cell_type": "code",
   "execution_count": 1,
   "metadata": {},
   "outputs": [],
   "source": [
    "# Importing libraries and modules necessary for this task\n",
    "import pandas as pd\n",
    "import numpy as np\n",
    "import matplotlib.pyplot as plt\n",
    "import xlrd\n",
    "import datetime as dt\n",
    "import math\n",
    "\n"
   ]
  },
  {
   "cell_type": "markdown",
   "metadata": {},
   "source": [
    "## CO2 Data"
   ]
  },
  {
   "cell_type": "markdown",
   "metadata": {},
   "source": [
    "The CO2 data that we're looking at is a composite of atmospheric CO2 records from Antartic ice cores and can be found in this reposoitory as a .xls file [CO2_IPCC](/Data/CO2_IPCC.xls).  The data in this file spans a timeframe of 800k years before present, where present date is 1950.  This version compiled by Bereiter et al. in 2014 replaces the old version of Lüthi et al. (2008), which contains the analytical bias described in the article mentioned above and lower quality data and many other sections.\n",
    "\n",
    "The ice core data is gathered by drilling into ice sheets and extracting ice core samples which are then analysed to identify deposits within the ice, such as pollen and gas.  By drilling down into the ice sheet or glacier and recovering ice from ancient times, scientists are able to determine the past composition and behavior of the atmosphere, what the climate was like when the snow fell, and how the size of ice sheets and glaciers have changed in the past in response to different climate conditions. Ice cores have provided climate and ice dynamics information over many hundred thousand years in very high, sometimes seasonal, resolution.\n",
    "\n",
    "The information gathered from these ice cores allows paleoclimatologists to better understand atmospheric and climatic conditions that existed when particular layers of the sheet formed and to determine how and why climate changed in the past.\n"
   ]
  },
  {
   "cell_type": "code",
   "execution_count": 2,
   "metadata": {},
   "outputs": [],
   "source": [
    "# Read in the CO2 data from IPCC xls file, skipping the first 14 rows. \n",
    "# https://agupubs.onlinelibrary.wiley.com/action/downloadSupplement?doi=10.1002%2F2014GL061957&file=grl52461-sup-0003-supplementary.xls\n",
    "\n",
    "co2_IPCC = pd.read_excel('data/CO2_IPCC.xls', sheet_name='CO2 Composite', skiprows=range(14))"
   ]
  },
  {
   "cell_type": "code",
   "execution_count": 3,
   "metadata": {},
   "outputs": [
    {
     "data": {
      "text/html": [
       "<div>\n",
       "<style scoped>\n",
       "    .dataframe tbody tr th:only-of-type {\n",
       "        vertical-align: middle;\n",
       "    }\n",
       "\n",
       "    .dataframe tbody tr th {\n",
       "        vertical-align: top;\n",
       "    }\n",
       "\n",
       "    .dataframe thead th {\n",
       "        text-align: right;\n",
       "    }\n",
       "</style>\n",
       "<table border=\"1\" class=\"dataframe\">\n",
       "  <thead>\n",
       "    <tr style=\"text-align: right;\">\n",
       "      <th></th>\n",
       "      <th>Gasage (yr BP)</th>\n",
       "      <th>CO2 (ppmv)</th>\n",
       "      <th>sigma mean CO2 (ppmv)</th>\n",
       "    </tr>\n",
       "  </thead>\n",
       "  <tbody>\n",
       "    <tr>\n",
       "      <th>0</th>\n",
       "      <td>-51.030000</td>\n",
       "      <td>368.022488</td>\n",
       "      <td>0.060442</td>\n",
       "    </tr>\n",
       "    <tr>\n",
       "      <th>1</th>\n",
       "      <td>-48.000000</td>\n",
       "      <td>361.780737</td>\n",
       "      <td>0.370000</td>\n",
       "    </tr>\n",
       "    <tr>\n",
       "      <th>2</th>\n",
       "      <td>-46.279272</td>\n",
       "      <td>359.647793</td>\n",
       "      <td>0.098000</td>\n",
       "    </tr>\n",
       "    <tr>\n",
       "      <th>3</th>\n",
       "      <td>-44.405642</td>\n",
       "      <td>357.106740</td>\n",
       "      <td>0.159923</td>\n",
       "    </tr>\n",
       "    <tr>\n",
       "      <th>4</th>\n",
       "      <td>-43.080000</td>\n",
       "      <td>353.946685</td>\n",
       "      <td>0.043007</td>\n",
       "    </tr>\n",
       "  </tbody>\n",
       "</table>\n",
       "</div>"
      ],
      "text/plain": [
       "   Gasage (yr BP)  CO2 (ppmv)  sigma mean CO2 (ppmv)\n",
       "0      -51.030000  368.022488               0.060442\n",
       "1      -48.000000  361.780737               0.370000\n",
       "2      -46.279272  359.647793               0.098000\n",
       "3      -44.405642  357.106740               0.159923\n",
       "4      -43.080000  353.946685               0.043007"
      ]
     },
     "execution_count": 3,
     "metadata": {},
     "output_type": "execute_result"
    }
   ],
   "source": [
    "co2_IPCC.head()"
   ]
  },
  {
   "cell_type": "code",
   "execution_count": 4,
   "metadata": {},
   "outputs": [
    {
     "data": {
      "text/html": [
       "<div>\n",
       "<style scoped>\n",
       "    .dataframe tbody tr th:only-of-type {\n",
       "        vertical-align: middle;\n",
       "    }\n",
       "\n",
       "    .dataframe tbody tr th {\n",
       "        vertical-align: top;\n",
       "    }\n",
       "\n",
       "    .dataframe thead th {\n",
       "        text-align: right;\n",
       "    }\n",
       "</style>\n",
       "<table border=\"1\" class=\"dataframe\">\n",
       "  <thead>\n",
       "    <tr style=\"text-align: right;\">\n",
       "      <th></th>\n",
       "      <th>Gasage (yr BP)</th>\n",
       "      <th>CO2 (ppmv)</th>\n",
       "      <th>sigma mean CO2 (ppmv)</th>\n",
       "    </tr>\n",
       "  </thead>\n",
       "  <tbody>\n",
       "    <tr>\n",
       "      <th>count</th>\n",
       "      <td>1901.000000</td>\n",
       "      <td>1901.000000</td>\n",
       "      <td>1901.000000</td>\n",
       "    </tr>\n",
       "    <tr>\n",
       "      <th>mean</th>\n",
       "      <td>242810.270113</td>\n",
       "      <td>235.566624</td>\n",
       "      <td>1.340519</td>\n",
       "    </tr>\n",
       "    <tr>\n",
       "      <th>std</th>\n",
       "      <td>274261.195468</td>\n",
       "      <td>35.902698</td>\n",
       "      <td>0.924188</td>\n",
       "    </tr>\n",
       "    <tr>\n",
       "      <th>min</th>\n",
       "      <td>-51.030000</td>\n",
       "      <td>173.713620</td>\n",
       "      <td>0.010000</td>\n",
       "    </tr>\n",
       "    <tr>\n",
       "      <th>25%</th>\n",
       "      <td>14606.209000</td>\n",
       "      <td>204.826743</td>\n",
       "      <td>0.639335</td>\n",
       "    </tr>\n",
       "    <tr>\n",
       "      <th>50%</th>\n",
       "      <td>74525.645000</td>\n",
       "      <td>232.456008</td>\n",
       "      <td>1.073871</td>\n",
       "    </tr>\n",
       "    <tr>\n",
       "      <th>75%</th>\n",
       "      <td>504177.187879</td>\n",
       "      <td>257.930000</td>\n",
       "      <td>1.800000</td>\n",
       "    </tr>\n",
       "    <tr>\n",
       "      <th>max</th>\n",
       "      <td>805668.868405</td>\n",
       "      <td>368.022488</td>\n",
       "      <td>9.960000</td>\n",
       "    </tr>\n",
       "  </tbody>\n",
       "</table>\n",
       "</div>"
      ],
      "text/plain": [
       "       Gasage (yr BP)   CO2 (ppmv)  sigma mean CO2 (ppmv)\n",
       "count     1901.000000  1901.000000            1901.000000\n",
       "mean    242810.270113   235.566624               1.340519\n",
       "std     274261.195468    35.902698               0.924188\n",
       "min        -51.030000   173.713620               0.010000\n",
       "25%      14606.209000   204.826743               0.639335\n",
       "50%      74525.645000   232.456008               1.073871\n",
       "75%     504177.187879   257.930000               1.800000\n",
       "max     805668.868405   368.022488               9.960000"
      ]
     },
     "execution_count": 4,
     "metadata": {},
     "output_type": "execute_result"
    }
   ],
   "source": [
    "co2_IPCC.describe()"
   ]
  },
  {
   "cell_type": "markdown",
   "metadata": {},
   "source": [
    "\n",
    "https://en.wikipedia.org/wiki/Before_Present\n",
    "\n",
    "In order to make the data more relateable and easier to compare with the other datasets I will convert the column 'Gasage (yr BP)' to the same year format that is seen in the other datasets.\n"
   ]
  },
  {
   "cell_type": "code",
   "execution_count": 5,
   "metadata": {},
   "outputs": [],
   "source": [
    "# Convert the Gasage yr BP format \n",
    "years = 1950 - co2_IPCC['Gasage (yr BP)']"
   ]
  },
  {
   "cell_type": "code",
   "execution_count": 6,
   "metadata": {},
   "outputs": [],
   "source": [
    "# Add a new column to the dataframe with the converted year\n",
    "co2_IPCC.loc[:, \"year\"] = (years).astype(int)\n"
   ]
  },
  {
   "cell_type": "code",
   "execution_count": 7,
   "metadata": {},
   "outputs": [
    {
     "name": "stdout",
     "output_type": "stream",
     "text": [
      "Gasage (yr BP)           float64\n",
      "CO2 (ppmv)               float64\n",
      "sigma mean CO2 (ppmv)    float64\n",
      "year                       int32\n",
      "dtype: object\n"
     ]
    }
   ],
   "source": [
    "print(co2_IPCC.dtypes) \n"
   ]
  },
  {
   "cell_type": "code",
   "execution_count": 8,
   "metadata": {},
   "outputs": [],
   "source": [
    "# Read in the CO2 data from Mauna Loa .csv file, skipping the first 43 rows. \n",
    "# https://agupubs.onlinelibrary.wiley.com/action/downloadSupplement?doi=10.1002%2F2014GL061957&file=grl52461-sup-0003-supplementary.xls\n",
    "\n",
    "co2_maunaloa = pd.read_csv('data/co2_mauna_loa.csv', skiprows=range(43))"
   ]
  },
  {
   "cell_type": "code",
   "execution_count": 9,
   "metadata": {},
   "outputs": [
    {
     "data": {
      "text/html": [
       "<div>\n",
       "<style scoped>\n",
       "    .dataframe tbody tr th:only-of-type {\n",
       "        vertical-align: middle;\n",
       "    }\n",
       "\n",
       "    .dataframe tbody tr th {\n",
       "        vertical-align: top;\n",
       "    }\n",
       "\n",
       "    .dataframe thead th {\n",
       "        text-align: right;\n",
       "    }\n",
       "</style>\n",
       "<table border=\"1\" class=\"dataframe\">\n",
       "  <thead>\n",
       "    <tr style=\"text-align: right;\">\n",
       "      <th></th>\n",
       "      <th>year</th>\n",
       "      <th>mean</th>\n",
       "      <th>unc</th>\n",
       "    </tr>\n",
       "  </thead>\n",
       "  <tbody>\n",
       "    <tr>\n",
       "      <th>0</th>\n",
       "      <td>1959</td>\n",
       "      <td>315.98</td>\n",
       "      <td>0.12</td>\n",
       "    </tr>\n",
       "    <tr>\n",
       "      <th>1</th>\n",
       "      <td>1960</td>\n",
       "      <td>316.91</td>\n",
       "      <td>0.12</td>\n",
       "    </tr>\n",
       "    <tr>\n",
       "      <th>2</th>\n",
       "      <td>1961</td>\n",
       "      <td>317.64</td>\n",
       "      <td>0.12</td>\n",
       "    </tr>\n",
       "    <tr>\n",
       "      <th>3</th>\n",
       "      <td>1962</td>\n",
       "      <td>318.45</td>\n",
       "      <td>0.12</td>\n",
       "    </tr>\n",
       "    <tr>\n",
       "      <th>4</th>\n",
       "      <td>1963</td>\n",
       "      <td>318.99</td>\n",
       "      <td>0.12</td>\n",
       "    </tr>\n",
       "  </tbody>\n",
       "</table>\n",
       "</div>"
      ],
      "text/plain": [
       "   year    mean   unc\n",
       "0  1959  315.98  0.12\n",
       "1  1960  316.91  0.12\n",
       "2  1961  317.64  0.12\n",
       "3  1962  318.45  0.12\n",
       "4  1963  318.99  0.12"
      ]
     },
     "execution_count": 9,
     "metadata": {},
     "output_type": "execute_result"
    }
   ],
   "source": [
    "co2_maunaloa.head()\n",
    "\n",
    "#co2_maunaloa.tail()"
   ]
  },
  {
   "cell_type": "markdown",
   "metadata": {},
   "source": [
    "In order to analyse the 2 data sets they will need to be merged."
   ]
  },
  {
   "cell_type": "code",
   "execution_count": 22,
   "metadata": {},
   "outputs": [],
   "source": [
    "# Change the name of the column in Mauna Loa csv file to match that of IPCC file\n",
    "# https://stackoverflow.com/questions/46066685/rename-the-column-inside-csv-file\n",
    "co2_maunaloa = co2_maunaloa.rename(columns=({'mean':'CO2 (ppmv)'}))\n"
   ]
  },
  {
   "cell_type": "code",
   "execution_count": 24,
   "metadata": {},
   "outputs": [],
   "source": [
    "# https://pandas.pydata.org/docs/user_guide/merging.html\n",
    "co2_relevant_columns = co2_maunaloa[['year', 'CO2 (ppmv)']]\n",
    "\n",
    "co2_merged = pd.concat([co2_relevant_columns, co2_IPCC[['year', 'CO2 (ppmv)']]])"
   ]
  },
  {
   "cell_type": "code",
   "execution_count": 25,
   "metadata": {},
   "outputs": [
    {
     "name": "stdout",
     "output_type": "stream",
     "text": [
      "        year  CO2 (ppmv)\n",
      "0       1959  315.980000\n",
      "1       1960  316.910000\n",
      "2       1961  317.640000\n",
      "3       1962  318.450000\n",
      "4       1963  318.990000\n",
      "...      ...         ...\n",
      "1896 -801975  202.921723\n",
      "1897 -802059  207.498645\n",
      "1898 -802572  204.861938\n",
      "1899 -803182  202.226839\n",
      "1900 -803718  207.285440\n",
      "\n",
      "[1965 rows x 2 columns]\n"
     ]
    }
   ],
   "source": [
    "print(co2_merged)"
   ]
  },
  {
   "cell_type": "code",
   "execution_count": 37,
   "metadata": {},
   "outputs": [],
   "source": [
    "# Output the merged IPCC and Mauna Loa data to a .csv file \n",
    "co2_merged.to_csv('C:/Users/lgrealish/repo/PfDA_Project_2/data_export_files/co2_merged_data.csv')\n",
    "co2_merged.to_json('C:/Users/lgrealish/repo/PfDA_Project_2/data_export_files/co2_merged_data.json')"
   ]
  },
  {
   "cell_type": "code",
   "execution_count": 32,
   "metadata": {},
   "outputs": [],
   "source": [
    "# Create a dataframe with the merged IPCC and Mauna Loa CO2 data\n",
    "co2_merged = pd.read_csv(\"C:/Users/lgrealish/repo/PfDA_Project_2/data_export_files/co2_merged_data.csv\")"
   ]
  },
  {
   "cell_type": "code",
   "execution_count": 31,
   "metadata": {},
   "outputs": [
    {
     "data": {
      "image/png": "[encoded data removed]",
      "text/plain": [
       "<Figure size 640x480 with 1 Axes>"
      ]
     },
     "metadata": {},
     "output_type": "display_data"
    }
   ],
   "source": [
    "# Check how the merged CO2 data looks\n",
    "plt.plot(co2_merged['year'],co2_merged['CO2 (ppmv)'])\n",
    "plt.show()"
   ]
  },
  {
   "cell_type": "markdown",
   "metadata": {},
   "source": [
    "## Temperature Data"
   ]
  },
  {
   "cell_type": "markdown",
   "metadata": {},
   "source": []
  },
  {
   "cell_type": "code",
   "execution_count": 35,
   "metadata": {},
   "outputs": [],
   "source": [
    "# Read in the CO2 data from IPCC xls file, skipping the first 14 rows. \n",
    "temp = pd.read_excel('data/temp_data_Jouzel.xls')\n",
    "temp = temp.rename(columns=({'EDC3béta':'Age'}))"
   ]
  },
  {
   "cell_type": "code",
   "execution_count": 36,
   "metadata": {},
   "outputs": [
    {
     "data": {
      "text/html": [
       "<div>\n",
       "<style scoped>\n",
       "    .dataframe tbody tr th:only-of-type {\n",
       "        vertical-align: middle;\n",
       "    }\n",
       "\n",
       "    .dataframe tbody tr th {\n",
       "        vertical-align: top;\n",
       "    }\n",
       "\n",
       "    .dataframe thead th {\n",
       "        text-align: right;\n",
       "    }\n",
       "</style>\n",
       "<table border=\"1\" class=\"dataframe\">\n",
       "  <thead>\n",
       "    <tr style=\"text-align: right;\">\n",
       "      <th></th>\n",
       "      <th>bag</th>\n",
       "      <th>ztop</th>\n",
       "      <th>Age</th>\n",
       "      <th>AICC2012</th>\n",
       "      <th>deutfinal</th>\n",
       "      <th>temp</th>\n",
       "      <th>acc-EDC3beta</th>\n",
       "    </tr>\n",
       "  </thead>\n",
       "  <tbody>\n",
       "    <tr>\n",
       "      <th>count</th>\n",
       "      <td>5819.00000</td>\n",
       "      <td>5819.000000</td>\n",
       "      <td>5819.000000</td>\n",
       "      <td>5819.000000</td>\n",
       "      <td>5804.000000</td>\n",
       "      <td>5819.000000</td>\n",
       "      <td>5819.000000</td>\n",
       "    </tr>\n",
       "    <tr>\n",
       "      <th>mean</th>\n",
       "      <td>2910.00000</td>\n",
       "      <td>1599.950000</td>\n",
       "      <td>191800.948469</td>\n",
       "      <td>192715.210134</td>\n",
       "      <td>-417.742884</td>\n",
       "      <td>213.474721</td>\n",
       "      <td>2.044824</td>\n",
       "    </tr>\n",
       "    <tr>\n",
       "      <th>std</th>\n",
       "      <td>1679.94494</td>\n",
       "      <td>923.969717</td>\n",
       "      <td>193448.729761</td>\n",
       "      <td>195698.666350</td>\n",
       "      <td>17.949569</td>\n",
       "      <td>3.130075</td>\n",
       "      <td>0.678126</td>\n",
       "    </tr>\n",
       "    <tr>\n",
       "      <th>min</th>\n",
       "      <td>1.00000</td>\n",
       "      <td>0.000000</td>\n",
       "      <td>-50.000000</td>\n",
       "      <td>-55.000000</td>\n",
       "      <td>-450.100000</td>\n",
       "      <td>207.900000</td>\n",
       "      <td>1.096556</td>\n",
       "    </tr>\n",
       "    <tr>\n",
       "      <th>25%</th>\n",
       "      <td>1455.50000</td>\n",
       "      <td>799.975000</td>\n",
       "      <td>47540.535000</td>\n",
       "      <td>46505.000000</td>\n",
       "      <td>-432.300000</td>\n",
       "      <td>210.900000</td>\n",
       "      <td>1.508500</td>\n",
       "    </tr>\n",
       "    <tr>\n",
       "      <th>50%</th>\n",
       "      <td>2910.00000</td>\n",
       "      <td>1599.950000</td>\n",
       "      <td>123446.200000</td>\n",
       "      <td>121574.666700</td>\n",
       "      <td>-421.300000</td>\n",
       "      <td>212.900000</td>\n",
       "      <td>1.838000</td>\n",
       "    </tr>\n",
       "    <tr>\n",
       "      <th>75%</th>\n",
       "      <td>4364.50000</td>\n",
       "      <td>2399.925000</td>\n",
       "      <td>276835.550000</td>\n",
       "      <td>277050.500000</td>\n",
       "      <td>-403.200000</td>\n",
       "      <td>216.000000</td>\n",
       "      <td>2.514000</td>\n",
       "    </tr>\n",
       "    <tr>\n",
       "      <th>max</th>\n",
       "      <td>5819.00000</td>\n",
       "      <td>3199.900000</td>\n",
       "      <td>820093.900000</td>\n",
       "      <td>821838.000000</td>\n",
       "      <td>-361.200000</td>\n",
       "      <td>223.100000</td>\n",
       "      <td>4.641000</td>\n",
       "    </tr>\n",
       "  </tbody>\n",
       "</table>\n",
       "</div>"
      ],
      "text/plain": [
       "              bag         ztop            Age       AICC2012    deutfinal  \\\n",
       "count  5819.00000  5819.000000    5819.000000    5819.000000  5804.000000   \n",
       "mean   2910.00000  1599.950000  191800.948469  192715.210134  -417.742884   \n",
       "std    1679.94494   923.969717  193448.729761  195698.666350    17.949569   \n",
       "min       1.00000     0.000000     -50.000000     -55.000000  -450.100000   \n",
       "25%    1455.50000   799.975000   47540.535000   46505.000000  -432.300000   \n",
       "50%    2910.00000  1599.950000  123446.200000  121574.666700  -421.300000   \n",
       "75%    4364.50000  2399.925000  276835.550000  277050.500000  -403.200000   \n",
       "max    5819.00000  3199.900000  820093.900000  821838.000000  -361.200000   \n",
       "\n",
       "              temp  acc-EDC3beta  \n",
       "count  5819.000000   5819.000000  \n",
       "mean    213.474721      2.044824  \n",
       "std       3.130075      0.678126  \n",
       "min     207.900000      1.096556  \n",
       "25%     210.900000      1.508500  \n",
       "50%     212.900000      1.838000  \n",
       "75%     216.000000      2.514000  \n",
       "max     223.100000      4.641000  "
      ]
     },
     "execution_count": 36,
     "metadata": {},
     "output_type": "execute_result"
    }
   ],
   "source": [
    "temp.describe()"
   ]
  },
  {
   "cell_type": "code",
   "execution_count": null,
   "metadata": {},
   "outputs": [],
   "source": []
  },
  {
   "cell_type": "code",
   "execution_count": null,
   "metadata": {},
   "outputs": [],
   "source": []
  },
  {
   "cell_type": "code",
   "execution_count": null,
   "metadata": {},
   "outputs": [],
   "source": []
  },
  {
   "cell_type": "code",
   "execution_count": null,
   "metadata": {},
   "outputs": [],
   "source": []
  },
  {
   "cell_type": "code",
   "execution_count": null,
   "metadata": {},
   "outputs": [],
   "source": []
  },
  {
   "cell_type": "code",
   "execution_count": null,
   "metadata": {},
   "outputs": [],
   "source": []
  },
  {
   "cell_type": "code",
   "execution_count": null,
   "metadata": {},
   "outputs": [],
   "source": []
  },
  {
   "cell_type": "markdown",
   "metadata": {},
   "source": [
    "## Resources\n",
    "\n",
    "https://www.sciencedirect.com/science/article/pii/S2212094723000610#bib13\n",
    "\n",
    "https://xlrd.readthedocs.io/en/latest/\n",
    "\n",
    "https://gml.noaa.gov/ccgg/trends/data.html\n",
    "\n",
    "https://www.met.ie/climate/available-data/long-term-data-sets/\n",
    "\n",
    "https://towardsdatascience.com/how-to-export-pandas-dataframe-to-csv-2038e43d9c03\n"
   ]
  },
  {
   "cell_type": "markdown",
   "metadata": {},
   "source": [
    "## Background Reading\n",
    "\n",
    "https://www.ipcc.ch/site/assets/uploads/2018/03/srccs_chapter2-1.pdf\n",
    "\n",
    "https://education.nationalgeographic.org/resource/paleoclimatology-RL/\n",
    "\n",
    "https://icecores.org/about-ice-cores#:~:text=CO2%20in%20the%20Ice%20Core%20Record&text=Over%20400%2C000%20years%2C%20and%20even,to%20warmer%20in%20interglacial%20periods."
   ]
  }
 ],
 "metadata": {
  "kernelspec": {
   "display_name": "base",
   "language": "python",
   "name": "python3"
  },
  "language_info": {
   "codemirror_mode": {
    "name": "ipython",
    "version": 3
   },
   "file_extension": ".py",
   "mimetype": "text/x-python",
   "name": "python",
   "nbconvert_exporter": "python",
   "pygments_lexer": "ipython3",
   "version": "3.11.4"
  }
 },
 "nbformat": 4,
 "nbformat_minor": 2
}
