{
 "cells": [
  {
   "cell_type": "markdown",
   "metadata": {},
   "source": [
    "# PfDA Assignment 2 2023\n",
    "\n",
    "## An analysis of paleo-present climate data "
   ]
  },
  {
   "cell_type": "markdown",
   "metadata": {},
   "source": [
    "<img src = images/climate_montage.png alt= \"Climate change Images\" width = \"700\" height = \"auto\">"
   ]
  },
  {
   "cell_type": "markdown",
   "metadata": {},
   "source": [
    "# Table of Contents\n",
    "1. [Introduction](#overview)  \n",
    "    - [Problem Statement](#problem-statement)\n",
    "    - [Background](#background)\n",
    "    - [Import](#import-libraries)\n",
    "2. [CO2 Data](#co2-data)\n",
    "3. [Temperature Data](#temp-data)\n",
    "4. [Analysis of CO2 and Temperature Anomoly](#co2-temp-analysis)\n",
    "5. [CH4 Data](#ch4-data)\n",
    "6. [Export Fused Data](#export-data)"
   ]
  },
  {
   "cell_type": "markdown",
   "metadata": {},
   "source": [
    "***"
   ]
  },
  {
   "cell_type": "markdown",
   "metadata": {},
   "source": [
    "<a id=\"overview\"></a>\n",
    "\n",
    "## 1. Introduction and Project Overview\n",
    "\n",
    "This notebook contains my submission for the Programming for Data Analysis Module 2023 module at ATU as part of the Higher Diploma in Computing and Data Analytics."
   ]
  },
  {
   "cell_type": "markdown",
   "metadata": {},
   "source": [
    "### Problem statement <a id=\"problem-statement\"></a>\n",
    "\n",
    "- Analyse CO2 vs Temperature Anomaly from 800kyrs – present. \n",
    "- Examine one other (paleo/modern) features (e.g. CH4 or polar ice-coverage) \n",
    "- Examine Irish context: o Climate change signals: (see Maynooth study: The emergence of a climate change signal in long-term Irish meteorological observations - ScienceDirect https://www.sciencedirect.com/science/article/pii/S2212094723000610#bib13) \n",
    "- Fuse and analyse data from various data sources and format fused data set as a pandas dataframe and export to csv and json formats \n",
    "- For all of the above variables, analyse the data, the trends and the relationships between them (temporal leads/lags/frequency analysis). \n",
    "- Predict global temperature anomaly over next few decades (synthesise data) and compare to published climate models if atmospheric CO2 trends continue  \n",
    "- Comment on accelerated warming based on very latest features (e.g. temperature/polar-icecoverage) \n",
    "\n",
    "Use a Jupyter notebook for your analysis and track your progress using GitHub. \n",
    "\n",
    "Use an academic referencing style "
   ]
  },
  {
   "cell_type": "markdown",
   "metadata": {},
   "source": [
    "### Background <a id=\"background\"></a>\n",
    "\n",
    "Paleoclimatology is the study of previous climates that have existed during Earth's different geologic ages.  We can then use data gathered to try to identify the causes of climate changes that have happened in the past in order to better understand our present and future climate.\n",
    "\n",
    "Paleoclimatology has also helped scientists study and understand how other environmental factors, such as continental drift, solar energy, greenhouses gases in the atmosphere, and the variation in Earth’s orbit have all affected the climate of Earth over time.\n",
    "\n",
    "The science of paleoclimatology is vital to our understanding of climate on Earth. As scientists become increasingly aware of how climates have been influenced in the past, they can develop models that help predict how increased carbon dioxide levels and other changes might impact the climate of Earth in the future.\n",
    "\n",
    "https://education.nationalgeographic.org/resource/paleoclimatology-RL/"
   ]
  },
  {
   "cell_type": "markdown",
   "metadata": {},
   "source": [
    "### Importing Python libraries and modules <a id=\"import-libraries\"></a>"
   ]
  },
  {
   "cell_type": "code",
   "execution_count": null,
   "metadata": {},
   "outputs": [],
   "source": [
    "# Importing libraries and modules necessary for this task\n",
    "import pandas as pd\n",
    "import numpy as np\n",
    "import matplotlib.pyplot as plt\n",
    "import xlrd\n",
    "import datetime as dt\n",
    "import math\n",
    "\n"
   ]
  },
  {
   "cell_type": "markdown",
   "metadata": {},
   "source": [
    "## 2. CO2 Data <a id=\"co2-data\"></a>"
   ]
  },
  {
   "cell_type": "markdown",
   "metadata": {},
   "source": [
    "The CO2 data being analysed at is a composite of atmospheric CO2 records from Antartic ice cores and can be found in this reposoitory as a .xls file [CO2_IPCC](/Data/CO2_IPCC.xls).  The data in this file spans a timeframe of 800k years before present, where present date is 1950.  This version compiled by Bereiter et al. in 2014 replaces the old version of Lüthi et al. (2008), which contains the analytical bias described in the article mentioned above and lower quality data and many other sections.\n",
    "\n",
    "The ice core data is gathered by drilling into ice sheets and extracting ice core samples which are then analysed to identify deposits within the ice, such as pollen and gas.  By drilling down into the ice sheet or glacier and recovering ice from ancient times, scientists are able to determine the past composition and behavior of the atmosphere, what the climate was like when the snow fell, and how the size of ice sheets and glaciers have changed in the past in response to different climate conditions. Ice cores have provided climate and ice dynamics information over many hundred thousand years in very high, sometimes seasonal, resolution.\n",
    "\n",
    "The information gathered from these ice cores allows paleoclimatologists to better understand atmospheric and climatic conditions that existed when particular layers of the sheet formed and to determine how and why climate changed in the past.\n"
   ]
  },
  {
   "cell_type": "code",
   "execution_count": null,
   "metadata": {},
   "outputs": [],
   "source": [
    "# Read in the CO2 data from IPCC xls file, skipping the first 14 rows. \n",
    "# https://agupubs.onlinelibrary.wiley.com/action/downloadSupplement?doi=10.1002%2F2014GL061957&file=grl52461-sup-0003-supplementary.xls\n",
    "\n",
    "co2_IPCC = pd.read_excel('data/CO2_IPCC.xls', sheet_name='CO2 Composite', skiprows=range(14))"
   ]
  },
  {
   "cell_type": "code",
   "execution_count": null,
   "metadata": {},
   "outputs": [],
   "source": [
    "co2_IPCC.head()"
   ]
  },
  {
   "cell_type": "code",
   "execution_count": null,
   "metadata": {},
   "outputs": [],
   "source": [
    "co2_IPCC.describe()"
   ]
  },
  {
   "cell_type": "markdown",
   "metadata": {},
   "source": [
    "\n",
    "https://en.wikipedia.org/wiki/Before_Present\n",
    "\n",
    "In order to make the data more relateable and easier to compare with the other datasets I will convert the column 'Gasage (yr BP)' to the same year format that is seen in the other datasets.\n"
   ]
  },
  {
   "cell_type": "code",
   "execution_count": null,
   "metadata": {},
   "outputs": [],
   "source": [
    "# Convert the Gasage yr BP format \n",
    "years = 1950 - co2_IPCC['Gasage (yr BP)']"
   ]
  },
  {
   "cell_type": "code",
   "execution_count": null,
   "metadata": {},
   "outputs": [],
   "source": [
    "# Add a new column to the dataframe with the converted year\n",
    "co2_IPCC.loc[:, \"year\"] = (years).astype(int)\n"
   ]
  },
  {
   "cell_type": "code",
   "execution_count": null,
   "metadata": {},
   "outputs": [],
   "source": [
    "print(co2_IPCC.dtypes) "
   ]
  },
  {
   "cell_type": "markdown",
   "metadata": {},
   "source": [
    "As the IPCC dataset only contains data up until 1950 a second dataset is also being used and can be found in this repository as a .csv file [CO2_Mauna_Loa](/Data/co2_mauna_loa.csv) and was downloaded from the [NOAA website](https://gml.noaa.gov/ccgg/trends/data.html).  The data gathered at the Mauna Loa Observatory in Hawaii gives the annual mean CO2 measurements but unlike the IPCC data which gathers the CO2 data from ice cores the data is collected from measuring concentration of CO2 in the air.  \n",
    "\n",
    "The location of the observatory at an altitude of 3,400m, near the summit of Mauna Loa, is well situated to measure air masses that are representative of very large areas.\n",
    "\n",
    "https://gml.noaa.gov/ccgg/about/co2_measurements.html"
   ]
  },
  {
   "cell_type": "code",
   "execution_count": null,
   "metadata": {},
   "outputs": [],
   "source": [
    "# Read in the CO2 data from Mauna Loa .csv file, skipping the first 43 rows. \n",
    "# https://agupubs.onlinelibrary.wiley.com/action/downloadSupplement?doi=10.1002%2F2014GL061957&file=grl52461-sup-0003-supplementary.xls\n",
    "\n",
    "co2_maunaloa = pd.read_csv('data/co2_mauna_loa.csv', skiprows=range(43))"
   ]
  },
  {
   "cell_type": "code",
   "execution_count": null,
   "metadata": {},
   "outputs": [],
   "source": [
    "co2_maunaloa.describe()"
   ]
  },
  {
   "cell_type": "markdown",
   "metadata": {},
   "source": [
    "In order to analyse the 2 data sets they will need to be merged."
   ]
  },
  {
   "cell_type": "code",
   "execution_count": null,
   "metadata": {},
   "outputs": [],
   "source": [
    "# Change the name of the column in Mauna Loa csv file to match that of IPCC file\n",
    "# https://stackoverflow.com/questions/46066685/rename-the-column-inside-csv-file\n",
    "co2_maunaloa = co2_maunaloa.rename(columns=({'mean':'CO2 (ppmv)'}))\n"
   ]
  },
  {
   "cell_type": "code",
   "execution_count": null,
   "metadata": {},
   "outputs": [],
   "source": [
    "# https://pandas.pydata.org/docs/user_guide/merging.html\n",
    "co2_relevant_columns = co2_maunaloa[['year', 'CO2 (ppmv)']]\n",
    "\n",
    "co2_merged = pd.concat([co2_relevant_columns, co2_IPCC[['year', 'CO2 (ppmv)']]])\n",
    "co2_merged = co2_merged.sort_values(by='year') "
   ]
  },
  {
   "cell_type": "code",
   "execution_count": null,
   "metadata": {},
   "outputs": [],
   "source": [
    "print(co2_merged)"
   ]
  },
  {
   "cell_type": "code",
   "execution_count": null,
   "metadata": {},
   "outputs": [],
   "source": [
    "# Check how the merged CO2 data looks\n",
    "plt.figure(figsize=(20,20))\n",
    "plt.plot(co2_merged['year'],co2_merged['CO2 (ppmv)'])\n",
    "plt.show()"
   ]
  },
  {
   "cell_type": "markdown",
   "metadata": {},
   "source": [
    "## 3. Temperature Data <a id=\"temp-data\"></a>"
   ]
  },
  {
   "cell_type": "markdown",
   "metadata": {},
   "source": [
    "The next section will focus on the data relating to temperature and temperature anomoly.  \n",
    "\n",
    "The term temperature anomoly means a departure from a reference value or long-term average. A positive anomaly indicates that the observed temperature was warmer than the reference value, while a negative anomaly indicates that the observed temperature was cooler than the reference value. https://www.ncei.noaa.gov/access/monitoring/global-temperature-anomalies/#:~:text=The%20term%20temperature%20anomaly%20means,cooler%20than%20the%20reference%20value.\n",
    "\n",
    "The temperature data being analysed was provided by the lecturer and can be found in this reposoitory as a .txt file [temp_data_jouzel](/Data/temp_data_jouzel.txt).  Similar to the CO2 data this dataset spans a timescale of over 800k years and also uses the Before Present model where BP is 1950.  "
   ]
  },
  {
   "cell_type": "code",
   "execution_count": null,
   "metadata": {},
   "outputs": [],
   "source": [
    "# Read in the CO2 data from Jouzel txt file\n",
    "# Change the name of the 'Age' column to match that on CO2 merged data\n",
    "# Remove any null values using.dropna() function\n",
    "temp = pd.read_csv('data/temp_data_Jouzel.txt', sep='\\s+', skiprows=range(91))\n",
    "#temp = temp.rename(columns=({'Age':'year'})) \n",
    "temp = temp.dropna()\n"
   ]
  },
  {
   "cell_type": "code",
   "execution_count": null,
   "metadata": {},
   "outputs": [],
   "source": [
    "years = 1950 - temp['Age']\n",
    "temp.loc[:, \"year\"] = (years).astype(int)"
   ]
  },
  {
   "cell_type": "code",
   "execution_count": null,
   "metadata": {},
   "outputs": [],
   "source": [
    "temp.describe()\n"
   ]
  },
  {
   "cell_type": "markdown",
   "metadata": {},
   "source": [
    "From the above we can see that the min value for 'year' is 38 BP whoich means this data only contains data until 1911 so in order to complete the data up until the current year I found data on the NOAA website which has the temperature anomaly from 1912 to 2023. \n",
    "\n",
    "https://www.ncei.noaa.gov/access/monitoring/climate-at-a-glance/global/time-series/globe/land_ocean/1/11/1912-2023\n"
   ]
  },
  {
   "cell_type": "code",
   "execution_count": null,
   "metadata": {},
   "outputs": [],
   "source": [
    "temp_NOAA = pd.read_csv('data/temp_data_NOAA.csv', skiprows=range(4))\n",
    "temp_NOAA = temp_NOAA.rename(columns=({'Year':'year', 'Anomaly':'Temperature'})) \n",
    "temp_NOAA.describe()\n"
   ]
  },
  {
   "cell_type": "code",
   "execution_count": null,
   "metadata": {},
   "outputs": [],
   "source": [
    "temp_merged = pd.concat([temp_NOAA, temp[['year', 'Temperature']]])\n",
    "temp_merged.describe()"
   ]
  },
  {
   "cell_type": "code",
   "execution_count": null,
   "metadata": {},
   "outputs": [],
   "source": [
    "# Check how the merged temp data looks\n",
    "plt.plot(temp_merged['year'],temp_merged['Temperature'])\n",
    "plt.show()"
   ]
  },
  {
   "cell_type": "code",
   "execution_count": null,
   "metadata": {},
   "outputs": [],
   "source": []
  },
  {
   "cell_type": "markdown",
   "metadata": {},
   "source": [
    "## 4. Analysis of CO2 and Temperature Anomoly <a id=\"co2-temp-analysis\"></a>\n"
   ]
  },
  {
   "cell_type": "code",
   "execution_count": null,
   "metadata": {},
   "outputs": [],
   "source": [
    "# Create a plot that displays merged CO2 and temp datasets\n",
    "# https://matplotlib.org/stable/gallery/subplots_axes_and_figures/two_scales.html\n",
    "fig, ax1 = plt.subplots(figsize=(12, 6))\n",
    "ax2=ax1.twinx()\n",
    "\n",
    "# Plot CO2 data\n",
    "ax1.plot(co2_merged['year'], co2_merged['CO2 (ppmv)'], label='CO2 (ppmv)', color='green')\n",
    "ax1.set_ylabel('CO2 (ppmv)', color='blue')\n",
    "ax1.tick_params(axis='y', labelcolor='blue')\n",
    "ax1.legend(loc='upper left')\n",
    "ax1.set_xlabel('Years before present')\n",
    "\n",
    "\n",
    "# Plot temperature data\n",
    "ax2.plot(temp_merged['year'], temp_merged['Temperature'], label='Temperature Anomoly', color='lightblue')\n",
    "ax2.set_ylabel('Temperature Anomoly', color='blue')\n",
    "ax2.tick_params(axis='y', labelcolor='blue')\n",
    "ax2.legend(loc='upper right')\n",
    "\n",
    "plt.title('CO2 and Temperature Anomaly Over 800k Years')\n",
    "plt.show()"
   ]
  },
  {
   "cell_type": "markdown",
   "metadata": {},
   "source": [
    "<img src = images/CO2vsTemp.png alt= \"CO2 vs Temp \" width = \"700\" height = \"auto\">\n",
    "\n",
    "https://skepticalscience.com/co2-lags-temperature.htm\n",
    "\n",
    "https://skepticalscience.com/images/Milankovitch_Cycles_400000.gif\n",
    "\n"
   ]
  },
  {
   "cell_type": "markdown",
   "metadata": {},
   "source": []
  },
  {
   "cell_type": "markdown",
   "metadata": {},
   "source": [
    "## 5. CH4 Data <a id=\"ch4-data\"></a>"
   ]
  },
  {
   "cell_type": "markdown",
   "metadata": {},
   "source": [
    "CH4 (Methane) is an important greenhouse gas, responsible for around 30% of the rise in global temperatures since the industrial revolution. (https://en.wikipedia.org/wiki/Methane) \"https://www.iea.org/reports/global-methane-tracker-2022/methane-and-climate-change Methane and climate change – Global Methane Tracker 2022 – Analysis\". IEA. 2022. Retrieved September 18, 2023.\n",
    "\n",
    "Methane is a naturally occuring atmospheric gas and is found both below ground and under the seafloor being formed by both geological and biological processes.  In addition to naturally occuring methane it is also a by product from activities such as waster water treatment plants, manure production, biomass burning and landfills. (https://www.pranaair.com/what-is-methane/)\n",
    "\n",
    "The Earth's atmospheric methane concentration has increased by about 160% since 1750, with the overwhelming percentage caused by human activity.(https://en.wikipedia.org/wiki/Methane)"
   ]
  },
  {
   "cell_type": "code",
   "execution_count": 131,
   "metadata": {},
   "outputs": [],
   "source": [
    "# Read in the CH4 data from EPICA txt file\n",
    "# Remove any null values using.dropna() function\n",
    "ch4_EPICA = pd.read_csv('data/ch4_EPICA.txt', sep='\\s+', skiprows=range(153))\n",
    "#temp = temp.rename(columns=({'Age':'year'})) \n",
    "ch4_EPICA = ch4_EPICA.dropna()"
   ]
  },
  {
   "cell_type": "code",
   "execution_count": 132,
   "metadata": {},
   "outputs": [
    {
     "data": {
      "text/html": [
       "<div>\n",
       "<style scoped>\n",
       "    .dataframe tbody tr th:only-of-type {\n",
       "        vertical-align: middle;\n",
       "    }\n",
       "\n",
       "    .dataframe tbody tr th {\n",
       "        vertical-align: top;\n",
       "    }\n",
       "\n",
       "    .dataframe thead th {\n",
       "        text-align: right;\n",
       "    }\n",
       "</style>\n",
       "<table border=\"1\" class=\"dataframe\">\n",
       "  <thead>\n",
       "    <tr style=\"text-align: right;\">\n",
       "      <th></th>\n",
       "      <th>Depth</th>\n",
       "      <th>Gas</th>\n",
       "      <th>Age</th>\n",
       "      <th>CH4</th>\n",
       "      <th>1s</th>\n",
       "      <th>Lab.</th>\n",
       "    </tr>\n",
       "  </thead>\n",
       "  <tbody>\n",
       "    <tr>\n",
       "      <th>count</th>\n",
       "      <td>0.0</td>\n",
       "      <td>0.0</td>\n",
       "      <td>0.0</td>\n",
       "      <td>0.0</td>\n",
       "      <td>0.0</td>\n",
       "      <td>0.0</td>\n",
       "    </tr>\n",
       "    <tr>\n",
       "      <th>mean</th>\n",
       "      <td>NaN</td>\n",
       "      <td>NaN</td>\n",
       "      <td>NaN</td>\n",
       "      <td>NaN</td>\n",
       "      <td>NaN</td>\n",
       "      <td>NaN</td>\n",
       "    </tr>\n",
       "    <tr>\n",
       "      <th>std</th>\n",
       "      <td>NaN</td>\n",
       "      <td>NaN</td>\n",
       "      <td>NaN</td>\n",
       "      <td>NaN</td>\n",
       "      <td>NaN</td>\n",
       "      <td>NaN</td>\n",
       "    </tr>\n",
       "    <tr>\n",
       "      <th>min</th>\n",
       "      <td>NaN</td>\n",
       "      <td>NaN</td>\n",
       "      <td>NaN</td>\n",
       "      <td>NaN</td>\n",
       "      <td>NaN</td>\n",
       "      <td>NaN</td>\n",
       "    </tr>\n",
       "    <tr>\n",
       "      <th>25%</th>\n",
       "      <td>NaN</td>\n",
       "      <td>NaN</td>\n",
       "      <td>NaN</td>\n",
       "      <td>NaN</td>\n",
       "      <td>NaN</td>\n",
       "      <td>NaN</td>\n",
       "    </tr>\n",
       "    <tr>\n",
       "      <th>50%</th>\n",
       "      <td>NaN</td>\n",
       "      <td>NaN</td>\n",
       "      <td>NaN</td>\n",
       "      <td>NaN</td>\n",
       "      <td>NaN</td>\n",
       "      <td>NaN</td>\n",
       "    </tr>\n",
       "    <tr>\n",
       "      <th>75%</th>\n",
       "      <td>NaN</td>\n",
       "      <td>NaN</td>\n",
       "      <td>NaN</td>\n",
       "      <td>NaN</td>\n",
       "      <td>NaN</td>\n",
       "      <td>NaN</td>\n",
       "    </tr>\n",
       "    <tr>\n",
       "      <th>max</th>\n",
       "      <td>NaN</td>\n",
       "      <td>NaN</td>\n",
       "      <td>NaN</td>\n",
       "      <td>NaN</td>\n",
       "      <td>NaN</td>\n",
       "      <td>NaN</td>\n",
       "    </tr>\n",
       "  </tbody>\n",
       "</table>\n",
       "</div>"
      ],
      "text/plain": [
       "       Depth  Gas  Age  CH4   1s  Lab.\n",
       "count    0.0  0.0  0.0  0.0  0.0   0.0\n",
       "mean     NaN  NaN  NaN  NaN  NaN   NaN\n",
       "std      NaN  NaN  NaN  NaN  NaN   NaN\n",
       "min      NaN  NaN  NaN  NaN  NaN   NaN\n",
       "25%      NaN  NaN  NaN  NaN  NaN   NaN\n",
       "50%      NaN  NaN  NaN  NaN  NaN   NaN\n",
       "75%      NaN  NaN  NaN  NaN  NaN   NaN\n",
       "max      NaN  NaN  NaN  NaN  NaN   NaN"
      ]
     },
     "execution_count": 132,
     "metadata": {},
     "output_type": "execute_result"
    }
   ],
   "source": [
    "ch4_EPICA.describe()"
   ]
  },
  {
   "cell_type": "code",
   "execution_count": null,
   "metadata": {},
   "outputs": [],
   "source": []
  },
  {
   "cell_type": "code",
   "execution_count": null,
   "metadata": {},
   "outputs": [],
   "source": []
  },
  {
   "cell_type": "code",
   "execution_count": null,
   "metadata": {},
   "outputs": [],
   "source": []
  },
  {
   "cell_type": "markdown",
   "metadata": {},
   "source": [
    "## 6. Export Fused Data <a id=\"export-data\"></a>"
   ]
  },
  {
   "cell_type": "code",
   "execution_count": null,
   "metadata": {},
   "outputs": [],
   "source": [
    "# Output the merged CO2, Temperature data to  .csv and .json file \n",
    "# https://stackoverflow.com/questions/29271520/valueerror-dataframe-index-must-be-unique-for-orient-columns\n",
    "#co2_merged.to_csv('C:/Users/lgrealish/repo/PfDA_Project_2/data_export_files/co2_merged_data.csv', index=False)\n",
    "#co2_merged.to_json('C:/Users/lgrealish/repo/PfDA_Project_2/data_export_files/co2_merged_data.json', orient=\"split\")\n",
    "\n",
    "#temp_merged.to_csv('C:/Users/lgrealish/repo/PfDA_Project_2/data_export_files/temp_merged_data.csv', index=False)\n",
    "#temp_merged.to_json('C:/Users/lgrealish/repo/PfDA_Project_2/data_export_files/temp_merged_data.json', orient=\"split\")"
   ]
  },
  {
   "cell_type": "code",
   "execution_count": null,
   "metadata": {},
   "outputs": [],
   "source": []
  },
  {
   "cell_type": "code",
   "execution_count": null,
   "metadata": {},
   "outputs": [],
   "source": []
  },
  {
   "cell_type": "code",
   "execution_count": null,
   "metadata": {},
   "outputs": [],
   "source": []
  },
  {
   "cell_type": "code",
   "execution_count": null,
   "metadata": {},
   "outputs": [],
   "source": []
  },
  {
   "cell_type": "markdown",
   "metadata": {},
   "source": [
    "## Resources\n",
    "\n",
    "https://www.sciencedirect.com/science/article/pii/S2212094723000610#bib13\n",
    "\n",
    "https://xlrd.readthedocs.io/en/latest/\n",
    "\n",
    "https://gml.noaa.gov/ccgg/trends/data.html\n",
    "\n",
    "https://www.met.ie/climate/available-data/long-term-data-sets/\n",
    "\n",
    "https://towardsdatascience.com/how-to-export-pandas-dataframe-to-csv-2038e43d9c03\n",
    "\n",
    "https://python-graph-gallery.com/line-chart-dual-y-axis-with-matplotlib/\n"
   ]
  },
  {
   "cell_type": "markdown",
   "metadata": {},
   "source": [
    "## Background Reading\n",
    "\n",
    "https://www.ipcc.ch/site/assets/uploads/2018/03/srccs_chapter2-1.pdf\n",
    "\n",
    "https://education.nationalgeographic.org/resource/paleoclimatology-RL/\n",
    "\n",
    "https://icecores.org/about-ice-cores#:~:text=CO2%20in%20the%20Ice%20Core%20Record&text=Over%20400%2C000%20years%2C%20and%20even,to%20warmer%20in%20interglacial%20periods\n",
    "\n",
    "https://gml.noaa.gov/ccgg/about/co2_measurements.html\n",
    "\n",
    "https://factsonclimate.org/infographics/concentration-warming-relationship"
   ]
  }
 ],
 "metadata": {
  "kernelspec": {
   "display_name": "base",
   "language": "python",
   "name": "python3"
  },
  "language_info": {
   "codemirror_mode": {
    "name": "ipython",
    "version": 3
   },
   "file_extension": ".py",
   "mimetype": "text/x-python",
   "name": "python",
   "nbconvert_exporter": "python",
   "pygments_lexer": "ipython3",
   "version": "3.11.4"
  }
 },
 "nbformat": 4,
 "nbformat_minor": 2
}
